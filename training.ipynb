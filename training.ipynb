{
  "nbformat": 4,
  "nbformat_minor": 0,
  "metadata": {
    "colab": {
      "provenance": []
    },
    "kernelspec": {
      "name": "python3",
      "display_name": "Python 3"
    },
    "language_info": {
      "name": "python"
    }
  },
  "cells": [
    {
      "cell_type": "markdown",
      "source": [
        "Install a few libraries"
      ],
      "metadata": {
        "id": "AlaWGXf1UZ03"
      }
    },
    {
      "cell_type": "code",
      "execution_count": 2,
      "metadata": {
        "colab": {
          "base_uri": "https://localhost:8080/"
        },
        "id": "6PhXmiTsh8DX",
        "outputId": "be3a39cc-2bc5-485e-9bab-8852b679e2c6"
      },
      "outputs": [
        {
          "output_type": "stream",
          "name": "stdout",
          "text": [
            "Requirement already satisfied: torch in /usr/local/lib/python3.10/dist-packages (2.1.0+cu121)\n",
            "Requirement already satisfied: torchvision in /usr/local/lib/python3.10/dist-packages (0.16.0+cu121)\n",
            "Requirement already satisfied: matplotlib in /usr/local/lib/python3.10/dist-packages (3.7.1)\n",
            "Requirement already satisfied: numpy in /usr/local/lib/python3.10/dist-packages (1.25.2)\n",
            "Requirement already satisfied: scikit-image in /usr/local/lib/python3.10/dist-packages (0.19.3)\n",
            "Collecting torchinfo\n",
            "  Downloading torchinfo-1.8.0-py3-none-any.whl (23 kB)\n",
            "Requirement already satisfied: filelock in /usr/local/lib/python3.10/dist-packages (from torch) (3.13.1)\n",
            "Requirement already satisfied: typing-extensions in /usr/local/lib/python3.10/dist-packages (from torch) (4.10.0)\n",
            "Requirement already satisfied: sympy in /usr/local/lib/python3.10/dist-packages (from torch) (1.12)\n",
            "Requirement already satisfied: networkx in /usr/local/lib/python3.10/dist-packages (from torch) (3.2.1)\n",
            "Requirement already satisfied: jinja2 in /usr/local/lib/python3.10/dist-packages (from torch) (3.1.3)\n",
            "Requirement already satisfied: fsspec in /usr/local/lib/python3.10/dist-packages (from torch) (2023.6.0)\n",
            "Requirement already satisfied: triton==2.1.0 in /usr/local/lib/python3.10/dist-packages (from torch) (2.1.0)\n",
            "Requirement already satisfied: requests in /usr/local/lib/python3.10/dist-packages (from torchvision) (2.31.0)\n",
            "Requirement already satisfied: pillow!=8.3.*,>=5.3.0 in /usr/local/lib/python3.10/dist-packages (from torchvision) (9.4.0)\n",
            "Requirement already satisfied: contourpy>=1.0.1 in /usr/local/lib/python3.10/dist-packages (from matplotlib) (1.2.0)\n",
            "Requirement already satisfied: cycler>=0.10 in /usr/local/lib/python3.10/dist-packages (from matplotlib) (0.12.1)\n",
            "Requirement already satisfied: fonttools>=4.22.0 in /usr/local/lib/python3.10/dist-packages (from matplotlib) (4.49.0)\n",
            "Requirement already satisfied: kiwisolver>=1.0.1 in /usr/local/lib/python3.10/dist-packages (from matplotlib) (1.4.5)\n",
            "Requirement already satisfied: packaging>=20.0 in /usr/local/lib/python3.10/dist-packages (from matplotlib) (23.2)\n",
            "Requirement already satisfied: pyparsing>=2.3.1 in /usr/local/lib/python3.10/dist-packages (from matplotlib) (3.1.2)\n",
            "Requirement already satisfied: python-dateutil>=2.7 in /usr/local/lib/python3.10/dist-packages (from matplotlib) (2.8.2)\n",
            "Requirement already satisfied: scipy>=1.4.1 in /usr/local/lib/python3.10/dist-packages (from scikit-image) (1.11.4)\n",
            "Requirement already satisfied: imageio>=2.4.1 in /usr/local/lib/python3.10/dist-packages (from scikit-image) (2.31.6)\n",
            "Requirement already satisfied: tifffile>=2019.7.26 in /usr/local/lib/python3.10/dist-packages (from scikit-image) (2024.2.12)\n",
            "Requirement already satisfied: PyWavelets>=1.1.1 in /usr/local/lib/python3.10/dist-packages (from scikit-image) (1.5.0)\n",
            "Requirement already satisfied: six>=1.5 in /usr/local/lib/python3.10/dist-packages (from python-dateutil>=2.7->matplotlib) (1.16.0)\n",
            "Requirement already satisfied: MarkupSafe>=2.0 in /usr/local/lib/python3.10/dist-packages (from jinja2->torch) (2.1.5)\n",
            "Requirement already satisfied: charset-normalizer<4,>=2 in /usr/local/lib/python3.10/dist-packages (from requests->torchvision) (3.3.2)\n",
            "Requirement already satisfied: idna<4,>=2.5 in /usr/local/lib/python3.10/dist-packages (from requests->torchvision) (3.6)\n",
            "Requirement already satisfied: urllib3<3,>=1.21.1 in /usr/local/lib/python3.10/dist-packages (from requests->torchvision) (2.0.7)\n",
            "Requirement already satisfied: certifi>=2017.4.17 in /usr/local/lib/python3.10/dist-packages (from requests->torchvision) (2024.2.2)\n",
            "Requirement already satisfied: mpmath>=0.19 in /usr/local/lib/python3.10/dist-packages (from sympy->torch) (1.3.0)\n",
            "Installing collected packages: torchinfo\n",
            "Successfully installed torchinfo-1.8.0\n"
          ]
        }
      ],
      "source": [
        "! pip install torch torchvision matplotlib numpy scikit-image torchinfo"
      ]
    },
    {
      "cell_type": "markdown",
      "source": [
        "Import packages"
      ],
      "metadata": {
        "id": "tpW38QCHi5XA"
      }
    },
    {
      "cell_type": "code",
      "source": [
        "import random\n",
        "import numpy as np\n",
        "import torch\n",
        "import torch.nn as nn\n",
        "import matplotlib.pyplot as plt\n",
        "import skimage.io as io\n",
        "from pathlib import Path\n",
        "import sys"
      ],
      "metadata": {
        "id": "wtQZlF9Ri7Lu"
      },
      "execution_count": 3,
      "outputs": []
    },
    {
      "cell_type": "markdown",
      "source": [
        "Utility functions"
      ],
      "metadata": {
        "id": "908G44i-jFAS"
      }
    },
    {
      "cell_type": "code",
      "source": [
        "# Plot the time-series of errors and accuracies\n",
        "# for validation and train splits\n",
        "def plot_error_and_accuracy(errors, accuracies, title=\"\"):\n",
        "    \"\"\"\n",
        "    Args:\n",
        "        errors (dict): dictionary of errors over epochs {\"train\": [], \"val\": []}\n",
        "        accuracies (dict): similar, for accuracy\n",
        "        title (optional, str): Plot title. Defaults to \"\".\n",
        "    \"\"\"\n",
        "    f, (ax1, ax2) = plt.subplots(1, 2, figsize=(10, 5))\n",
        "    x = range(len(errors[\"train\"]))\n",
        "    ax1.plot(x, errors[\"train\"], label=\"Training\")\n",
        "    ax1.plot(x, errors[\"val\"], label=\"Validation\")\n",
        "    ax1.title.set_text(\"Cross-entropy error\")\n",
        "\n",
        "    ax2.plot(x, accuracies[\"train\"], label=\"Training\")\n",
        "    ax2.plot(x, accuracies[\"val\"], label=\"Validation\")\n",
        "    ax2.title.set_text(\"Prediction Accuracy\")\n",
        "\n",
        "    if title:\n",
        "        plt.suptitle(title)\n",
        "    plt.legend()\n",
        "    plt.show()"
      ],
      "metadata": {
        "id": "oJdHS6dwjGs1"
      },
      "execution_count": 4,
      "outputs": []
    },
    {
      "cell_type": "code",
      "source": [
        "# GPUMonitor class to monitor GPU utilization in the background\n",
        "\n",
        "import subprocess\n",
        "import shutil\n",
        "import os\n",
        "\n",
        "\n",
        "def gpu_util():\n",
        "    format = \"csv,nounits,noheader\"\n",
        "    queries = [\"utilization.gpu\", \"memory.used\", \"memory.free\", \"utilization.memory\"]\n",
        "    gpu_query = \",\".join(queries)\n",
        "    gpu_ids = 0\n",
        "\n",
        "    result = subprocess.run(\n",
        "        [\n",
        "            shutil.which(\"nvidia-smi\"),\n",
        "            f\"--query-gpu={gpu_query}\",\n",
        "            f\"--format={format}\",\n",
        "            f\"--id={gpu_ids}\",\n",
        "        ],\n",
        "        encoding=\"utf-8\",\n",
        "        stdout=subprocess.PIPE,\n",
        "        stderr=subprocess.PIPE,\n",
        "        check=True,\n",
        "    )\n",
        "    stats = [\n",
        "        [float(x) for x in s.split(\", \")]\n",
        "        for s in result.stdout.strip().split(os.linesep)\n",
        "    ][0]\n",
        "    utilization = {}\n",
        "    for k, q in enumerate(queries):\n",
        "        utilization[q] = stats[k]\n",
        "    return utilization\n",
        "\n",
        "\n",
        "from threading import Thread\n",
        "from time import sleep, time\n",
        "\n",
        "\n",
        "class GPUMonitor:\n",
        "    def __init__(self, timeout=1):\n",
        "        self.timeout = timeout\n",
        "\n",
        "        self._thread = Thread(target=self._monitor, daemon=True)\n",
        "        self.utilization = None\n",
        "        self.done = False\n",
        "        self.start_time = self.stop_time = None\n",
        "\n",
        "    def start(self):\n",
        "        self._thread.start()\n",
        "        self.start_time = time()\n",
        "        return self\n",
        "\n",
        "    def _monitor(self):\n",
        "        while True:\n",
        "            if self.done:\n",
        "                break\n",
        "            utilization = gpu_util()\n",
        "            if self.utilization is None:\n",
        "                self.utilization = {k: [] for k in utilization}\n",
        "            for k, v in utilization.items():\n",
        "                self.utilization[k].append(v)\n",
        "            sleep(self.timeout)\n",
        "\n",
        "    def __enter__(self):\n",
        "        self.start()\n",
        "\n",
        "    def stop(self):\n",
        "        self.stop_time = time()\n",
        "        self.done = True\n",
        "\n",
        "    def __exit__(self, exc_type, exc_value, tb):\n",
        "        # handle exceptions with those variables ^\n",
        "        self.stop()\n",
        "\n",
        "    def plot_all(self, figsize=(10, 10)):\n",
        "        f, axs = plt.subplots(2, 2, figsize=figsize)\n",
        "        for i in range(2):\n",
        "            for j in range(2):\n",
        "                ax = axs[i][j]\n",
        "                k = list(self.utilization.keys())[i * 2 + j]\n",
        "                data = self.utilization[k]\n",
        "                ax.plot(range(len(data)), data)\n",
        "                ax.title.set_text(k)\n",
        "        plt.suptitle(\"GPU monitoring\")\n",
        "\n",
        "    def plot(self, k):\n",
        "        assert k in self.utilization, f\"Unknown metric {k}\"\n",
        "        data = self.utilization[k]\n",
        "        plt.plot(range(len(data)), data)\n",
        "        plt.title(\"GPU monitoring: \" + k)"
      ],
      "metadata": {
        "id": "llgRGPwojKdw"
      },
      "execution_count": 5,
      "outputs": []
    },
    {
      "cell_type": "code",
      "source": [
        "def correct(predictions, labels):\n",
        "    \"\"\"\n",
        "    Counts the number of correct predictions\n",
        "\n",
        "    Args:\n",
        "        predictions (torch.Tensor): array of model predictions. Can be either\n",
        "            1D (batch of class indices) or 2D (batch of prediction vectors)\n",
        "        labels (torch.Tensor): array of ground truth target labels (1D)\n",
        "    \"\"\"\n",
        "    if predictions.ndim > labels.ndim:\n",
        "        predictions = predictions.max(1).indices\n",
        "\n",
        "    correct_predictions = predictions.cpu() == labels.cpu()\n",
        "    correct_count = correct_predictions.float().sum()\n",
        "    return correct_count.item()"
      ],
      "metadata": {
        "id": "NBZkVWZ9jioY"
      },
      "execution_count": 6,
      "outputs": []
    },
    {
      "cell_type": "code",
      "source": [
        "# From\n",
        "# https://discuss.pytorch.org/t/reproducibility-with-all-the-bells-and-whistles/81097\n",
        "\n",
        "\n",
        "def seed_all(seed):\n",
        "    \"\"\"\n",
        "    Seed Python, Numpy and Pytorch for reproducibility.\n",
        "    \"\"\"\n",
        "\n",
        "    if not seed:\n",
        "        seed = 10\n",
        "\n",
        "    torch.manual_seed(seed)\n",
        "    torch.cuda.manual_seed_all(seed)\n",
        "    torch.cuda.manual_seed(seed)\n",
        "    # np.random.seed(seed)\n",
        "    rng = np.random.default_rng(seed=seed)\n",
        "    random.seed(seed)\n",
        "    torch.backends.cudnn.deterministic = True\n",
        "    torch.backends.cudnn.benchmark = False\n",
        "    return rng\n",
        "\n",
        "\n",
        "def seed_worker(worker_id):\n",
        "    \"\"\"\n",
        "    Seed data loader workers\n",
        "    \"\"\"\n",
        "    worker_seed = torch.initial_seed() % 2**32\n",
        "    np.random.seed(worker_seed)\n",
        "    random.seed(worker_seed)\n",
        "\n",
        "\n",
        "rng = seed_all(123)"
      ],
      "metadata": {
        "id": "1fMz9UxAlKnn"
      },
      "execution_count": 7,
      "outputs": []
    },
    {
      "cell_type": "markdown",
      "source": [
        "Set training set and validation set.\n"
      ],
      "metadata": {
        "id": "zSFTZzkzVdBD"
      }
    },
    {
      "cell_type": "code",
      "source": [
        "# train_set = ...\n",
        "# val_set = ..."
      ],
      "metadata": {
        "id": "SQNrQ8WrVajS"
      },
      "execution_count": 8,
      "outputs": []
    },
    {
      "cell_type": "markdown",
      "source": [
        "Create models"
      ],
      "metadata": {
        "id": "DjKDKfX9dOK-"
      }
    },
    {
      "cell_type": "code",
      "source": [
        "# CNN"
      ],
      "metadata": {
        "id": "dh7bB31gdeVy"
      },
      "execution_count": null,
      "outputs": []
    },
    {
      "cell_type": "markdown",
      "source": [
        "Full training procedure"
      ],
      "metadata": {
        "id": "ZD05-o9wy2xX"
      }
    },
    {
      "cell_type": "code",
      "source": [
        "# hyper parameters\n",
        "batch_size = 32\n",
        "epochs = 50\n",
        "lr = 0.01\n",
        "\n",
        "# create device based on GPU availability\n",
        "device = torch.device(\"cuda:0\" if torch.cuda.is_available() else \"cpu\")\n",
        "\n",
        "# create model <-------------------------------------------------------------\n",
        "# model = CNN().to(device)\n",
        "\n",
        "# as before: create optimizer and loss <-------------------------------------\n",
        "# optimizer = torch.optim.Adam(model.parameters(), lr=lr)\n",
        "# loss = torch.nn.CrossEntropyLoss()\n",
        "\n",
        "# store train/val error & accuracy\n",
        "errors = {\n",
        "    \"train\": [],\n",
        "    \"val\": [],\n",
        "}\n",
        "\n",
        "accuracies = {\"train\": [], \"val\": []}\n",
        "\n",
        "# initialize loaders\n",
        "train_loader = torch.utils.data.DataLoader(\n",
        "    train_set, batch_size=batch_size, shuffle=True, num_workers=4\n",
        ")\n",
        "val_loader = torch.utils.data.DataLoader(\n",
        "    val_set, batch_size=batch_size, shuffle=False, num_workers=4\n",
        ")\n",
        "\n",
        "print(model)\n",
        "\n",
        "# custom object in order to monitor how much we use the GPU\n",
        "# you can have a look at it in 0. Imports and Utils\n",
        "monitor = GPUMonitor()\n",
        "monitor.start()\n",
        "\n",
        "# ---------------------------------------\n",
        "# --  Start of the training procedure  --\n",
        "# ---------------------------------------\n",
        "\n",
        "for e in range(epochs):\n",
        "\n",
        "    train_errors = []\n",
        "    train_correct = 0\n",
        "\n",
        "    # Dropout and BatchNorm behave differently if you are training or evaluating\n",
        "    # the model. Here we need them to be in training mode\n",
        "    # (for instance, no dropout in evaluation mode)\n",
        "    model.train()\n",
        "\n",
        "    # ignore: clear print line\n",
        "    print(\" \" * 100, end=\"\")\n",
        "\n",
        "    for i, batch in enumerate(train_loader):\n",
        "        print(f\"\\rEpoch {e+1}/{epochs} | Train Batch {i+1}/{len(train_loader)}\", end=\"\")\n",
        "\n",
        "        # clear gradients\n",
        "        optimizer.zero_grad()\n",
        "\n",
        "        # send tensors to the propper device\n",
        "        x = batch[\"input\"].to(device)\n",
        "        y = batch[\"label\"].to(device)\n",
        "\n",
        "        # forward through model\n",
        "        prediction = model(x)\n",
        "        # compute prediction error\n",
        "        error = loss(prediction, y)\n",
        "        # update model parameters\n",
        "        optimizer.step()\n",
        "\n",
        "        # store batch error\n",
        "        train_errors.append(error.cpu().item())\n",
        "        # store batch correct count (see 0. ) to compute accuracy\n",
        "        # on the full training set for this epoch\n",
        "        train_correct += correct(prediction, batch[\"label\"])\n",
        "\n",
        "    # clear print line\n",
        "    print(\" \" * 100, end=\"\")\n",
        "\n",
        "    # evaluation: no gradients needed\n",
        "    with torch.no_grad():\n",
        "        val_errors = []\n",
        "        val_correct = 0\n",
        "\n",
        "        # Put the model in evaluation mode (vs .train() mode)\n",
        "        model.eval()\n",
        "\n",
        "        for i, batch in enumerate(val_loader):\n",
        "            print(\n",
        "                f\"\\rEpoch {e+1}/{epochs} | Validation Batch {i+1}/{len(val_loader)}\",\n",
        "                end=\"\",\n",
        "            )\n",
        "            prediction = model(batch[\"input\"].to(device))\n",
        "            error = loss(prediction, batch[\"label\"].to(device))\n",
        "            val_errors.append(error.cpu().item())\n",
        "            val_correct += correct(prediction, batch[\"label\"])\n",
        "\n",
        "    # compute average errors\n",
        "    train_error = np.mean(train_errors)\n",
        "    val_error = np.mean(val_errors)\n",
        "\n",
        "    # compute epoch-wise accuracies\n",
        "    train_acc = train_correct / len(train_set) * 100\n",
        "    val_acc = val_correct / len(val_set) * 100\n",
        "\n",
        "    # store metrics\n",
        "    accuracies[\"train\"].append(train_acc)\n",
        "    accuracies[\"val\"].append(val_acc)\n",
        "    errors[\"train\"].append(train_error)\n",
        "    errors[\"val\"].append(val_error)\n",
        "\n",
        "    print(\n",
        "        f\"\\rEpoch {e+1}/{epochs} - Train error: {train_error:.4f} Train acc: {train_acc:.1f}% - Val error: {val_error:.4f} Val acc: {val_acc:.1f}%\"\n",
        "    )\n",
        "\n",
        "    # -------------------\n",
        "    # --  End of epoch --\n",
        "    # -------------------\n",
        "\n",
        "# -------------------------------------\n",
        "# --  End of the training procedure  --\n",
        "# -------------------------------------\n",
        "\n",
        "# stop the GPU monitor\n",
        "monitor.stop()"
      ],
      "metadata": {
        "id": "sLAYBQshlMen",
        "colab": {
          "base_uri": "https://localhost:8080/",
          "height": 265
        },
        "outputId": "17218840-8e92-4279-fbeb-0e174947ee53"
      },
      "execution_count": 9,
      "outputs": [
        {
          "output_type": "stream",
          "name": "stderr",
          "text": [
            "/usr/local/lib/python3.10/dist-packages/torch/utils/data/dataloader.py:557: UserWarning: This DataLoader will create 4 worker processes in total. Our suggested max number of worker in current system is 2, which is smaller than what this DataLoader is going to create. Please be aware that excessive worker creation might get DataLoader running slow or even freeze, lower the worker number to avoid potential slowness/freeze if necessary.\n",
            "  warnings.warn(_create_warning_msg(\n"
          ]
        },
        {
          "output_type": "error",
          "ename": "NameError",
          "evalue": "name 'model' is not defined",
          "traceback": [
            "\u001b[0;31m---------------------------------------------------------------------------\u001b[0m",
            "\u001b[0;31mNameError\u001b[0m                                 Traceback (most recent call last)",
            "\u001b[0;32m<ipython-input-9-368020e15d01>\u001b[0m in \u001b[0;36m<cell line: 32>\u001b[0;34m()\u001b[0m\n\u001b[1;32m     30\u001b[0m )\n\u001b[1;32m     31\u001b[0m \u001b[0;34m\u001b[0m\u001b[0m\n\u001b[0;32m---> 32\u001b[0;31m \u001b[0mprint\u001b[0m\u001b[0;34m(\u001b[0m\u001b[0mmodel\u001b[0m\u001b[0;34m)\u001b[0m\u001b[0;34m\u001b[0m\u001b[0;34m\u001b[0m\u001b[0m\n\u001b[0m\u001b[1;32m     33\u001b[0m \u001b[0;34m\u001b[0m\u001b[0m\n\u001b[1;32m     34\u001b[0m \u001b[0;31m# custom object in order to monitor how much we use the GPU\u001b[0m\u001b[0;34m\u001b[0m\u001b[0;34m\u001b[0m\u001b[0m\n",
            "\u001b[0;31mNameError\u001b[0m: name 'model' is not defined"
          ]
        }
      ]
    },
    {
      "cell_type": "code",
      "source": [
        "# Plot train and val losses as functions of epoch number\n",
        "plt.figure()\n",
        "plt.plot(errors[\"train\"], label=\"train\")\n",
        "plt.plot(errors[\"val\"], label=\"val\")\n",
        "plt.legend()\n",
        "plt.xlabel(\"Epoch\")\n",
        "plt.ylabel(\"Loss\")\n",
        "plt.yscale(\"log\")"
      ],
      "metadata": {
        "id": "_Bc-nBX8zNGN",
        "colab": {
          "base_uri": "https://localhost:8080/",
          "height": 449
        },
        "outputId": "85d8ea90-50c0-45c3-b21f-48505bc36d7d"
      },
      "execution_count": 10,
      "outputs": [
        {
          "output_type": "display_data",
          "data": {
            "text/plain": [
              "<Figure size 640x480 with 1 Axes>"
            ],
            "image/png": "[encoded data removed]"
          },
          "metadata": {}
        }
      ]
    }
  ]
}